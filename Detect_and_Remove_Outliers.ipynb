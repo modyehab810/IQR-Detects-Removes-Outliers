{
 "cells": [
  {
   "cell_type": "markdown",
   "id": "51f784ae",
   "metadata": {},
   "source": [
    "### Importing Libraries "
   ]
  },
  {
   "cell_type": "code",
   "execution_count": 9,
   "id": "3740d17a",
   "metadata": {},
   "outputs": [],
   "source": [
    "import pandas as pd\n",
    "import numpy as np\n",
    "import matplotlib.pyplot as plt"
   ]
  },
  {
   "cell_type": "markdown",
   "id": "dc685945",
   "metadata": {},
   "source": [
    "### Creating DataFrame"
   ]
  },
  {
   "cell_type": "code",
   "execution_count": 22,
   "id": "8a807ce3",
   "metadata": {},
   "outputs": [],
   "source": [
    "employees = {\n",
    "    \"id\": [1620, 1621, 1622, 1623, 1624, 1625, 1626, 1627, 1628, 1629, 1630],\n",
    "    \"first_name\": [\"Muhammad\", \"Mustafa\", \"Muhammad\", \"Amr\", \"Mohanad\", \"Ahmed\", \"Dexter\", \"Marwan\", \"Mina\", \"Adel\", \"Osama\"],\n",
    "    \"last_name\":[\"Khalil\", \"Saad\", \"Samir\", \"Gaber\", \"Hatem\", \"Saleh\", \"Morgan\", \"Radwan\", \"Mamdouh\", \"Sobhy\", \"Muhammad\"],\n",
    "    \"salary\": [20000, 21000, 18000, 18000, 120000, 19500, 20000, 21000, 17500, 19800, 150000]\n",
    "}"
   ]
  },
  {
   "cell_type": "code",
   "execution_count": 23,
   "id": "2a7c1815",
   "metadata": {},
   "outputs": [],
   "source": [
    "df = pd.DataFrame(employees)"
   ]
  },
  {
   "cell_type": "code",
   "execution_count": 24,
   "id": "60d06626",
   "metadata": {},
   "outputs": [],
   "source": [
    "df.set_index(\"id\", inplace=True)"
   ]
  },
  {
   "cell_type": "code",
   "execution_count": 34,
   "id": "c2e17714",
   "metadata": {},
   "outputs": [
    {
     "data": {
      "text/plain": [
       "(11, 3)"
      ]
     },
     "execution_count": 34,
     "metadata": {},
     "output_type": "execute_result"
    }
   ],
   "source": [
    "df.shape"
   ]
  },
  {
   "cell_type": "code",
   "execution_count": 25,
   "id": "0a2c523c",
   "metadata": {},
   "outputs": [
    {
     "data": {
      "text/html": [
       "<div>\n",
       "<style scoped>\n",
       "    .dataframe tbody tr th:only-of-type {\n",
       "        vertical-align: middle;\n",
       "    }\n",
       "\n",
       "    .dataframe tbody tr th {\n",
       "        vertical-align: top;\n",
       "    }\n",
       "\n",
       "    .dataframe thead th {\n",
       "        text-align: right;\n",
       "    }\n",
       "</style>\n",
       "<table border=\"1\" class=\"dataframe\">\n",
       "  <thead>\n",
       "    <tr style=\"text-align: right;\">\n",
       "      <th></th>\n",
       "      <th>first_name</th>\n",
       "      <th>last_name</th>\n",
       "      <th>salary</th>\n",
       "    </tr>\n",
       "    <tr>\n",
       "      <th>id</th>\n",
       "      <th></th>\n",
       "      <th></th>\n",
       "      <th></th>\n",
       "    </tr>\n",
       "  </thead>\n",
       "  <tbody>\n",
       "    <tr>\n",
       "      <th>1620</th>\n",
       "      <td>Muhammad</td>\n",
       "      <td>Khalil</td>\n",
       "      <td>20000</td>\n",
       "    </tr>\n",
       "    <tr>\n",
       "      <th>1621</th>\n",
       "      <td>Mustafa</td>\n",
       "      <td>Saad</td>\n",
       "      <td>21000</td>\n",
       "    </tr>\n",
       "    <tr>\n",
       "      <th>1622</th>\n",
       "      <td>Muhammad</td>\n",
       "      <td>Samir</td>\n",
       "      <td>18000</td>\n",
       "    </tr>\n",
       "    <tr>\n",
       "      <th>1623</th>\n",
       "      <td>Amr</td>\n",
       "      <td>Gaber</td>\n",
       "      <td>18000</td>\n",
       "    </tr>\n",
       "    <tr>\n",
       "      <th>1624</th>\n",
       "      <td>Mohanad</td>\n",
       "      <td>Hatem</td>\n",
       "      <td>120000</td>\n",
       "    </tr>\n",
       "    <tr>\n",
       "      <th>1625</th>\n",
       "      <td>Ahmed</td>\n",
       "      <td>Saleh</td>\n",
       "      <td>19500</td>\n",
       "    </tr>\n",
       "    <tr>\n",
       "      <th>1626</th>\n",
       "      <td>Dexter</td>\n",
       "      <td>Morgan</td>\n",
       "      <td>20000</td>\n",
       "    </tr>\n",
       "    <tr>\n",
       "      <th>1627</th>\n",
       "      <td>Marwan</td>\n",
       "      <td>Radwan</td>\n",
       "      <td>21000</td>\n",
       "    </tr>\n",
       "    <tr>\n",
       "      <th>1628</th>\n",
       "      <td>Mina</td>\n",
       "      <td>Mamdouh</td>\n",
       "      <td>17500</td>\n",
       "    </tr>\n",
       "    <tr>\n",
       "      <th>1629</th>\n",
       "      <td>Adel</td>\n",
       "      <td>Sobhy</td>\n",
       "      <td>19800</td>\n",
       "    </tr>\n",
       "    <tr>\n",
       "      <th>1630</th>\n",
       "      <td>Osama</td>\n",
       "      <td>Muhammad</td>\n",
       "      <td>150000</td>\n",
       "    </tr>\n",
       "  </tbody>\n",
       "</table>\n",
       "</div>"
      ],
      "text/plain": [
       "     first_name last_name  salary\n",
       "id                               \n",
       "1620   Muhammad    Khalil   20000\n",
       "1621    Mustafa      Saad   21000\n",
       "1622   Muhammad     Samir   18000\n",
       "1623        Amr     Gaber   18000\n",
       "1624    Mohanad     Hatem  120000\n",
       "1625      Ahmed     Saleh   19500\n",
       "1626     Dexter    Morgan   20000\n",
       "1627     Marwan    Radwan   21000\n",
       "1628       Mina   Mamdouh   17500\n",
       "1629       Adel     Sobhy   19800\n",
       "1630      Osama  Muhammad  150000"
      ]
     },
     "execution_count": 25,
     "metadata": {},
     "output_type": "execute_result"
    }
   ],
   "source": [
    "df"
   ]
  },
  {
   "cell_type": "markdown",
   "id": "9de896e2",
   "metadata": {},
   "source": [
    "### Detecting Score Outlier Using Inter Quantile Range (IQR)"
   ]
  },
  {
   "cell_type": "code",
   "execution_count": 31,
   "id": "e8337a36",
   "metadata": {},
   "outputs": [],
   "source": [
    "# Sort salary columns\n",
    "score = df[\"salary\"].sort_values()\n",
    "\n",
    "# Get Q1 & Q3 of The Salary\n",
    "q1, q3 = np.quantile(score, [0.25, 0.75])\n",
    "\n",
    "# Calculate IQR = Q3 - Q1\n",
    "IQR = q3 - q1\n",
    "\n",
    "# Calculate Lower Limit \n",
    "lower_limit = q1 - (IQR * 1.5)\n",
    "\n",
    "# Calculate Upper Limit \n",
    "upper_limit = q3 + (IQR * 1.5)"
   ]
  },
  {
   "cell_type": "code",
   "execution_count": 32,
   "id": "7bbdb4d4",
   "metadata": {},
   "outputs": [
    {
     "name": "stdout",
     "output_type": "stream",
     "text": [
      "Limit: [15375.0 : 24375.0]\n"
     ]
    }
   ],
   "source": [
    "print(f\"Limit: [{lower_limit} : {upper_limit}]\")"
   ]
  },
  {
   "cell_type": "markdown",
   "id": "dee9f15d",
   "metadata": {},
   "source": [
    "### Filter Data To Remove The Outlier Records"
   ]
  },
  {
   "cell_type": "code",
   "execution_count": 36,
   "id": "dd088fe2",
   "metadata": {},
   "outputs": [],
   "source": [
    "filt = (df[\"salary\"] >= lower_limit) & (df[\"salary\"] <= upper_limit)"
   ]
  },
  {
   "cell_type": "code",
   "execution_count": 37,
   "id": "0e856acd",
   "metadata": {},
   "outputs": [],
   "source": [
    "filterd_df = df.loc[filt]"
   ]
  },
  {
   "cell_type": "code",
   "execution_count": 41,
   "id": "f126ed10",
   "metadata": {},
   "outputs": [
    {
     "data": {
      "text/plain": [
       "(9, 3)"
      ]
     },
     "execution_count": 41,
     "metadata": {},
     "output_type": "execute_result"
    }
   ],
   "source": [
    "# We Notice That 2 Records are Removed\n",
    "filterd_df.shape"
   ]
  },
  {
   "cell_type": "code",
   "execution_count": 42,
   "id": "0fcef35b",
   "metadata": {},
   "outputs": [
    {
     "data": {
      "text/html": [
       "<div>\n",
       "<style scoped>\n",
       "    .dataframe tbody tr th:only-of-type {\n",
       "        vertical-align: middle;\n",
       "    }\n",
       "\n",
       "    .dataframe tbody tr th {\n",
       "        vertical-align: top;\n",
       "    }\n",
       "\n",
       "    .dataframe thead th {\n",
       "        text-align: right;\n",
       "    }\n",
       "</style>\n",
       "<table border=\"1\" class=\"dataframe\">\n",
       "  <thead>\n",
       "    <tr style=\"text-align: right;\">\n",
       "      <th></th>\n",
       "      <th>first_name</th>\n",
       "      <th>last_name</th>\n",
       "      <th>salary</th>\n",
       "    </tr>\n",
       "    <tr>\n",
       "      <th>id</th>\n",
       "      <th></th>\n",
       "      <th></th>\n",
       "      <th></th>\n",
       "    </tr>\n",
       "  </thead>\n",
       "  <tbody>\n",
       "    <tr>\n",
       "      <th>1620</th>\n",
       "      <td>Muhammad</td>\n",
       "      <td>Khalil</td>\n",
       "      <td>20000</td>\n",
       "    </tr>\n",
       "    <tr>\n",
       "      <th>1621</th>\n",
       "      <td>Mustafa</td>\n",
       "      <td>Saad</td>\n",
       "      <td>21000</td>\n",
       "    </tr>\n",
       "    <tr>\n",
       "      <th>1622</th>\n",
       "      <td>Muhammad</td>\n",
       "      <td>Samir</td>\n",
       "      <td>18000</td>\n",
       "    </tr>\n",
       "    <tr>\n",
       "      <th>1623</th>\n",
       "      <td>Amr</td>\n",
       "      <td>Gaber</td>\n",
       "      <td>18000</td>\n",
       "    </tr>\n",
       "    <tr>\n",
       "      <th>1625</th>\n",
       "      <td>Ahmed</td>\n",
       "      <td>Saleh</td>\n",
       "      <td>19500</td>\n",
       "    </tr>\n",
       "    <tr>\n",
       "      <th>1626</th>\n",
       "      <td>Dexter</td>\n",
       "      <td>Morgan</td>\n",
       "      <td>20000</td>\n",
       "    </tr>\n",
       "    <tr>\n",
       "      <th>1627</th>\n",
       "      <td>Marwan</td>\n",
       "      <td>Radwan</td>\n",
       "      <td>21000</td>\n",
       "    </tr>\n",
       "    <tr>\n",
       "      <th>1628</th>\n",
       "      <td>Mina</td>\n",
       "      <td>Mamdouh</td>\n",
       "      <td>17500</td>\n",
       "    </tr>\n",
       "    <tr>\n",
       "      <th>1629</th>\n",
       "      <td>Adel</td>\n",
       "      <td>Sobhy</td>\n",
       "      <td>19800</td>\n",
       "    </tr>\n",
       "  </tbody>\n",
       "</table>\n",
       "</div>"
      ],
      "text/plain": [
       "     first_name last_name  salary\n",
       "id                               \n",
       "1620   Muhammad    Khalil   20000\n",
       "1621    Mustafa      Saad   21000\n",
       "1622   Muhammad     Samir   18000\n",
       "1623        Amr     Gaber   18000\n",
       "1625      Ahmed     Saleh   19500\n",
       "1626     Dexter    Morgan   20000\n",
       "1627     Marwan    Radwan   21000\n",
       "1628       Mina   Mamdouh   17500\n",
       "1629       Adel     Sobhy   19800"
      ]
     },
     "execution_count": 42,
     "metadata": {},
     "output_type": "execute_result"
    }
   ],
   "source": [
    "filterd_df"
   ]
  }
 ],
 "metadata": {
  "kernelspec": {
   "display_name": "Python 3 (ipykernel)",
   "language": "python",
   "name": "python3"
  },
  "language_info": {
   "codemirror_mode": {
    "name": "ipython",
    "version": 3
   },
   "file_extension": ".py",
   "mimetype": "text/x-python",
   "name": "python",
   "nbconvert_exporter": "python",
   "pygments_lexer": "ipython3",
   "version": "3.10.9"
  }
 },
 "nbformat": 4,
 "nbformat_minor": 5
}
